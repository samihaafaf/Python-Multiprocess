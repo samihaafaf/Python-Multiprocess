{
 "cells": [
  {
   "cell_type": "code",
   "execution_count": null,
   "id": "b57121e3",
   "metadata": {},
   "outputs": [],
   "source": [
    "\n",
    "\n",
    "def finder(files):\n",
    "\n",
    "    file_name = pd.DataFrame({'Filename':files})\n",
    "    flag = False\n",
    "    \n",
    "    states = ['Filename','Alabama', 'Alaska', 'Arizona', 'Arkansas', 'California',\n",
    "        'Colorado', 'Connecticut', 'Delaware', 'Florida', 'Georgia',\n",
    "        'Hawaii', 'Idaho', 'Illinois', 'Indiana', 'Iowa',\n",
    "        'Kansas', 'Kentucky', 'Louisiana', 'Maine', 'Maryland',\n",
    "        'Massachusetts', 'Michigan', 'Minnesota', 'Mississippi', 'Missouri',\n",
    "        'Montana', 'Nebraska', 'Nevada', 'New Hampshire', 'New Jersey',\n",
    "        'New Mexico', 'New York', 'North Carolina', 'North Dakota', 'Ohio',\n",
    "        'Oklahoma', 'Oregon', 'Pennsylvania', 'Rhode Island', 'South Carolina',\n",
    "        'South Dakota', 'Tennessee', 'Texas', 'Utah', 'Vermont',\n",
    "        'Virginia', 'Washington', 'West Virginia', 'Wisconsin', 'Wyoming']\n",
    "    state_dict = {state: [0] for state in states}\n",
    "    data = pd.DataFrame(state_dict)\n",
    "    for each in range(len(files)):\n",
    "        #print('lenght of files is ', len(files))\n",
    "        # Create the dictionary with all states and values set to 0\n",
    "        state_dict = {state: [0] for state in states}\n",
    "        state_dict['Filename'][0] = files[each].split('/')[-1] \n",
    "        \n",
    "        \n",
    "        f = open(files[each],'r')\n",
    "        \n",
    "        text = f.read()\n",
    "        #files[each] = files[each].split('/')[-1]\n",
    "        \n",
    "        for state in state_dict:\n",
    "            if state!='Filename':\n",
    "                state_dict[state][0] = text.count(state)\n",
    "        \n",
    "        new = pd.DataFrame(state_dict)\n",
    "        f.close()\n",
    "        data = pd.concat([data,new], ignore_index=True, axis = 0)\n",
    "        \n",
    "    #file_name = pd.DataFrame({'Filename': files })\n",
    "    #data2 = pd.concat([data.tail(-1),file_name], ignore_index=True, axis = 1)\n",
    "    #name = 'state_freQ'+str(batch)+'.csv'\n",
    "    #data.to_csv(name, index=False)   \n",
    "    #return data.tail(-1)\n",
    "    return data.tail(-1)"
   ]
  }
 ],
 "metadata": {
  "kernelspec": {
   "display_name": "Python 3 (ipykernel)",
   "language": "python",
   "name": "python3"
  },
  "language_info": {
   "codemirror_mode": {
    "name": "ipython",
    "version": 3
   },
   "file_extension": ".py",
   "mimetype": "text/x-python",
   "name": "python",
   "nbconvert_exporter": "python",
   "pygments_lexer": "ipython3",
   "version": "3.9.13"
  }
 },
 "nbformat": 4,
 "nbformat_minor": 5
}
